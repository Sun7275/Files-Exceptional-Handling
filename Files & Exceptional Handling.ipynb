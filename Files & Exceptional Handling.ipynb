{
 "cells": [
  {
   "cell_type": "code",
   "execution_count": 1,
   "id": "adbaf2ad-f365-4527-9549-a9e0c7756e76",
   "metadata": {},
   "outputs": [],
   "source": [
    "#1 Discuss the scenarios where multithreading is preferable to multiprocessing and scenarios where multiprocessing is a better choice.\n",
    "\n",
    "#Multithreading\n",
    "#Multithreading is ideal for tasks that are I/O-bound. This means tasks that spend a lot of time waiting for external events, \n",
    "#such as reading from or writing to a file, network operations, or user input.\n",
    "#Here are some scenarios where multithreading is preferable:\n",
    "#1- Web Scraping: \n",
    "#2- GUI Applications:\n",
    "#3- Network Servers\n",
    "\n",
    "#Multiprocessing:-\n",
    "#Multiprocessing is better suited for CPU-bound tasks. These are tasks that require a lot of computation and can benefit from being divided across multiple processors\n",
    "#Here are some scenarios where multiprocessing is a better choice:-\n",
    "#1-Data Processing:\n",
    "#2- Machine Learning\n",
    "#3- Scientific Computations:\n"
   ]
  },
  {
   "cell_type": "code",
   "execution_count": 2,
   "id": "c4cdb2e2-7740-4bb4-9573-5316735b22a1",
   "metadata": {},
   "outputs": [
    {
     "name": "stdout",
     "output_type": "stream",
     "text": [
      "[1, 4, 9, 16, 25]\n"
     ]
    }
   ],
   "source": [
    "#2 Describe what a process pool is and how it helps in managing multiple processes efficiently.\n",
    "\n",
    "#How Process Pools Work\n",
    "#Creation:- You create a pool of worker processes using the Pool class.\n",
    "#Task Submission:- You submit tasks to the pool. These tasks are functions that the worker processes will execute.\n",
    "#Execution:- The pool distributes the tasks among the available worker processes.\n",
    "#Result Collection:- The results of the tasks are collected and returned once all tasks are completed.\n",
    "\n",
    "from multiprocessing import Pool\n",
    "\n",
    "def square(x):\n",
    "    return x * x\n",
    "\n",
    "if __name__ == '__main__':\n",
    "    with Pool(4) as pool:  # Create a pool with 4 worker processes\n",
    "        numbers = [1, 2, 3, 4, 5]\n",
    "        results = pool.map(square, numbers)\n",
    "        print(results) \n"
   ]
  },
  {
   "cell_type": "code",
   "execution_count": 3,
   "id": "0e5db4e1-c041-4183-8fc3-4b377a065970",
   "metadata": {},
   "outputs": [
    {
     "name": "stdout",
     "output_type": "stream",
     "text": [
      "Square: 0\n",
      "Square: 1\n",
      "Square: 4\n",
      "Square: 9\n",
      "Square: 16\n"
     ]
    }
   ],
   "source": [
    "#3 Explain what multiprocessing is and why it is used in Python programs.\n",
    "\n",
    "#Why Use Multiprocessing in Python?\n",
    "\n",
    "#Bypassing the GIL:- The GIL is a mutex that protects access to Python objects, preventing multiple native threads from executing Python bytecodes at once.\n",
    "#Parallelism: Multiprocessing allows for true parallelism by running multiple processes simultaneously on different CPU cores.\n",
    "#Isolation: Each process runs in its own memory space, which means that a crash in one process won’t affect others.\n",
    "\n",
    "from multiprocessing import Process\n",
    "\n",
    "def print_square(num):\n",
    "    print(f'Square: {num * num}')\n",
    "\n",
    "if __name__ == '__main__':\n",
    "    processes = []\n",
    "    for i in range(5):\n",
    "        p = Process(target=print_square, args=(i,))\n",
    "        processes.append(p)\n",
    "        p.start()\n",
    "\n",
    "    for p in processes:\n",
    "        p.join()\n",
    "\n"
   ]
  },
  {
   "cell_type": "code",
   "execution_count": 7,
   "id": "c5555131-c93d-44b1-a0db-b120eed1d038",
   "metadata": {},
   "outputs": [
    {
     "name": "stdout",
     "output_type": "stream",
     "text": [
      "Added 0 to the list\n",
      "Removed 0 from the list\n",
      "Added 1 to the list\n",
      "Added 2 to the list\n",
      "Removed 1 from the list\n",
      "Added 3 to the list\n",
      "Removed 2 from the list\n",
      "Added 4 to the list\n",
      "Removed 3 from the list\n",
      "Removed 4 from the list\n",
      "Final list: []\n"
     ]
    }
   ],
   "source": [
    "#4 Write a Python program using multithreading where one thread adds numbers to a list, and another thread removes numbers from the list. Implement a mechanism to avoid race conditions using threading.Lock.\n",
    "\n",
    "import threading\n",
    "import time\n",
    "\n",
    "# Shared list\n",
    "shared_list = []\n",
    "\n",
    "# Lock object to prevent race conditions\n",
    "list_lock = threading.Lock()\n",
    "\n",
    "def add_numbers():\n",
    "    for i in range(5):\n",
    "        time.sleep(0.1)  # Simulate some work\n",
    "        with list_lock:\n",
    "            shared_list.append(i)\n",
    "            print(f\"Added {i} to the list\")\n",
    "\n",
    "def remove_numbers():\n",
    "    for i in range(5):\n",
    "        time.sleep(0.15)  # Simulate some work\n",
    "        with list_lock:\n",
    "            if shared_list:\n",
    "                removed = shared_list.pop(0)\n",
    "                print(f\"Removed {removed} from the list\")\n",
    "\n",
    "# Create threads\n",
    "thread1 = threading.Thread(target=add_numbers)\n",
    "thread2 = threading.Thread(target=remove_numbers)\n",
    "\n",
    "# Start threads\n",
    "thread1.start()\n",
    "thread2.start()\n",
    "\n",
    "# Wait for threads to complete\n",
    "thread1.join()\n",
    "thread2.join()\n",
    "\n",
    "print(\"Final list:\", shared_list)\n"
   ]
  },
  {
   "cell_type": "code",
   "execution_count": 12,
   "id": "316a39af-aaca-4ce0-86eb-d318505b46c7",
   "metadata": {},
   "outputs": [],
   "source": [
    "#5 Describe the methods and tools available in Python for safely sharing data between threads and processes.\n",
    "\n",
    "#Sharing Data Between Threads:-\n",
    "#1- threading.Lock:\n",
    "#A Lock is a synchronization primitive that ensures only one thread accesses a shared resource at a time, preventing race conditions.\n",
    "\n",
    "#2- threading.RLock:-\n",
    "#A Reentrant Lock (or RLock) allows a thread to acquire the same lock multiple times, useful in complex scenarios where the same thread needs to re-enter a critical section.\n",
    "\n",
    "#3-queue.Queue:-\n",
    "#A Queue is a thread-safe FIFO implementation that can be used to safely share data between threads.\n",
    "\n",
    "#Sharing Data Between Processe:-\n",
    "#1- multiprocessing.Queue:-\n",
    "#Similar to queue.Queue, but designed for inter-process communication, allowing safe data sharing between processes.\n",
    "\n",
    "#2-multiprocessing.Pipe:-\n",
    "#A Pipe provides a two-way communication channel between processes, enabling them to send and receive data. \n",
    "\n",
    "#3- multiprocessing.Array:-\n",
    "#An Array is a shared memory array that allows safe sharing of an array of values between processe\n"
   ]
  },
  {
   "cell_type": "code",
   "execution_count": 5,
   "id": "9faffff4-68f2-473f-ace8-35c608a6dddb",
   "metadata": {},
   "outputs": [
    {
     "name": "stdout",
     "output_type": "stream",
     "text": [
      "Exception in thread: An error occurred\n"
     ]
    }
   ],
   "source": [
    "#6- Discuss why it’s crucial to handle exceptions in concurrent programs and the techniques available for doing so.\n",
    "\n",
    "#Maintaining Program Stability: Unhandled exceptions in one thread can cause the entire application to crash, leading to data loss or corruption.\n",
    "\n",
    "#Resource Management: Proper exception handling ensures that resources such as file handles, database connections, and memory are released appropriately, preventing resource leaks.\n",
    "\n",
    "#Consistency and Integrity: In concurrent programs, multiple threads may be working on shared data. Unhandled exceptions can leave shared data in an inconsistent state, leading to unpredictable behavior.\n",
    "\n",
    "#Debugging and Maintenance: Properly handled exceptions provide meaningful error messages and stack traces, making it easier to diagnose and fix issues.\n",
    "\n",
    "import threading\n",
    "\n",
    "def worker():\n",
    "    try:\n",
    "        # Critical section\n",
    "        raise ValueError(\"An error occurred\")\n",
    "    except Exception as e:\n",
    "        print(f\"Exception in thread: {e}\")\n",
    "\n",
    "thread = threading.Thread(target=worker)\n",
    "thread.start()\n",
    "thread.join()\n",
    "\n"
   ]
  },
  {
   "cell_type": "code",
   "execution_count": 7,
   "id": "3b209c28-858e-4eac-b8ca-500f803e5f19",
   "metadata": {},
   "outputs": [
    {
     "name": "stdout",
     "output_type": "stream",
     "text": [
      "Factorial of 1 is 1\n",
      "Factorial of 2 is 2\n",
      "Factorial of 3 is 6\n",
      "Factorial of 4 is 24\n",
      "Factorial of 5 is 120\n",
      "Factorial of 6 is 720\n",
      "Factorial of 7 is 5040\n",
      "Factorial of 8 is 40320\n",
      "Factorial of 9 is 362880\n"
     ]
    }
   ],
   "source": [
    "#7 Create a program that uses a thread pool to calculate the factorial of numbers from 1 to 10 concurrently.Use concurrent.futures.ThreadPoolExecutor to manage the threads.\n",
    "\n",
    "import concurrent.futures\n",
    "import math\n",
    "\n",
    "# Function to calculate factorial\n",
    "def factorial(n):\n",
    "    return math.factorial(n)\n",
    "\n",
    "# Main function to use ThreadPoolExecutor\n",
    "def main():\n",
    "    numbers = range(1, 10)\n",
    "    with concurrent.futures.ThreadPoolExecutor() as executor:\n",
    "        # Map the factorial function to the numbers\n",
    "        results = list(executor.map(factorial, numbers))\n",
    "    \n",
    "    for number, result in zip(numbers, results):\n",
    "        print(f\"Factorial of {number} is {result}\")\n",
    "\n",
    "if __name__ == \"__main__\":\n",
    "    main()\n"
   ]
  },
  {
   "cell_type": "code",
   "execution_count": 9,
   "id": "57376bfc-d33e-4939-9b37-e0578473bc2e",
   "metadata": {},
   "outputs": [
    {
     "name": "stdout",
     "output_type": "stream",
     "text": [
      "Pool size: 2\n",
      "Results: [1, 4, 9, 16, 25, 36, 49, 64, 81]\n",
      "Time taken: 0.0238 seconds\n",
      "\n",
      "Pool size: 4\n",
      "Results: [1, 4, 9, 16, 25, 36, 49, 64, 81]\n",
      "Time taken: 0.0362 seconds\n",
      "\n",
      "Pool size: 8\n",
      "Results: [1, 4, 9, 16, 25, 36, 49, 64, 81]\n",
      "Time taken: 0.0604 seconds\n",
      "\n"
     ]
    }
   ],
   "source": [
    "#8 Create a Python program that uses multiprocessing.Pool to compute the square of numbers from 1 to 10 in parallel. Measure the time taken to perform this computation using a pool of different sizes (e.g., 2, 4, 8processes).\n",
    "\n",
    "import multiprocessing\n",
    "import time\n",
    "\n",
    "def compute_square(n):\n",
    "    return n * n\n",
    "\n",
    "if __name__ == \"__main__\":\n",
    "    numbers = list(range(1, 10))\n",
    "    pool_sizes = [2, 4, 8]\n",
    "\n",
    "    for pool_size in pool_sizes:\n",
    "        start_time = time.time()\n",
    "        \n",
    "        with multiprocessing.Pool(pool_size) as pool:\n",
    "            results = pool.map(compute_square, numbers)\n",
    "        \n",
    "        end_time = time.time()\n",
    "        elapsed_time = end_time - start_time\n",
    "        \n",
    "        print(f\"Pool size: {pool_size}\")\n",
    "        print(f\"Results: {results}\")\n",
    "        print(f\"Time taken: {elapsed_time:.4f} seconds\\n\")\n"
   ]
  },
  {
   "cell_type": "code",
   "execution_count": null,
   "id": "e21b42fb-7922-4e79-8295-52e037c7b292",
   "metadata": {},
   "outputs": [],
   "source": []
  }
 ],
 "metadata": {
  "kernelspec": {
   "display_name": "Python 3 (ipykernel)",
   "language": "python",
   "name": "python3"
  },
  "language_info": {
   "codemirror_mode": {
    "name": "ipython",
    "version": 3
   },
   "file_extension": ".py",
   "mimetype": "text/x-python",
   "name": "python",
   "nbconvert_exporter": "python",
   "pygments_lexer": "ipython3",
   "version": "3.10.8"
  }
 },
 "nbformat": 4,
 "nbformat_minor": 5
}
